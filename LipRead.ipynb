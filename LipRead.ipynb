{
 "cells": [
  {
   "cell_type": "markdown",
   "id": "b331d8bc-909d-4b74-b5f4-e530b34f7345",
   "metadata": {},
   "source": [
    "#### **Lip Reading Application**"
   ]
  },
  {
   "cell_type": "markdown",
   "id": "522e45e6-821a-4f68-832e-979f2cff351b",
   "metadata": {},
   "source": [
    "##### Install/Import dependencies"
   ]
  },
  {
   "cell_type": "code",
   "execution_count": null,
   "id": "d08b1627-8b8b-4202-bf2b-abd0f817af14",
   "metadata": {},
   "outputs": [],
   "source": [
    "%%capture\n",
    "#Install dependencies and confirm installation with !pip list\n",
    "!pip install opencv-python matplotlib imageio gdown tensorflow-macos\n",
    "!pip list"
   ]
  },
  {
   "cell_type": "code",
   "execution_count": null,
   "id": "627e33e7-957c-47f2-a5b2-87959273b9ea",
   "metadata": {},
   "outputs": [],
   "source": [
    "#Import dependencies\n",
    "import os\n",
    "import cv2\n",
    "#import tensorflow as tf\n",
    "import numpy as np\n",
    "from typing import List\n",
    "from matplotlib import pyplot as plt\n",
    "import imageio\n",
    "import tensorflow as tf"
   ]
  },
  {
   "cell_type": "code",
   "execution_count": null,
   "id": "be04cbe0-a51d-4807-85b8-9c7fc972c0ac",
   "metadata": {},
   "outputs": [],
   "source": []
  }
 ],
 "metadata": {
  "kernelspec": {
   "display_name": "Python 3 (ipykernel)",
   "language": "python",
   "name": "python3"
  }
 },
 "nbformat": 4,
 "nbformat_minor": 5
}
